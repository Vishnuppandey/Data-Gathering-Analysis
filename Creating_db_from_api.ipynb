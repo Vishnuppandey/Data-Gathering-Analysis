{
 "cells": [
  {
   "cell_type": "code",
   "execution_count": 18,
   "id": "66914e91",
   "metadata": {},
   "outputs": [],
   "source": [
    "import pandas as pd\n",
    "import requests"
   ]
  },
  {
   "cell_type": "code",
   "execution_count": 39,
   "id": "460e68a2",
   "metadata": {},
   "outputs": [],
   "source": [
    "response=requests.get('https://freetestapi.com/api/v1/movies')"
   ]
  },
  {
   "cell_type": "code",
   "execution_count": 46,
   "id": "7f224d8a",
   "metadata": {},
   "outputs": [
    {
     "name": "stdout",
     "output_type": "stream",
     "text": [
      "[{'id': 1, 'title': 'The Shawshank Redemption', 'year': 1994, 'genre': ['Drama'], 'rating': 9.3, 'director': 'Frank Darabont', 'actors': ['Tim Robbins', 'Morgan Freeman'], 'plot': 'Two imprisoned men bond over several years, finding solace and eventual redemption through acts of common decency.', 'poster': 'https://fakeimg.pl/220x310/ff0000', 'trailer': 'https://example.com/shawshank_redemption_trailer.mp4', 'runtime': 142, 'awards': 'Nominated for 7 Oscars', 'country': 'USA', 'language': 'English', 'boxOffice': '$28.3 million', 'production': 'Columbia Pictures', 'website': 'http://www.warnerbros.com/movies/shawshank-redemption'}, {'id': 2, 'title': 'The Godfather', 'year': 1972, 'genre': ['Crime', 'Drama'], 'rating': 9.2, 'director': 'Francis Ford Coppola', 'actors': ['Marlon Brando', 'Al Pacino', 'James Caan'], 'plot': 'The aging patriarch of an organized crime dynasty transfers control of his clandestine empire to his reluctant son.', 'poster': 'https://fakeimg.pl/220x310/ffff00', 'trailer': 'https://example.com/the_godfather_trailer.mp4', 'runtime': 175, 'awards': 'Won 3 Oscars', 'country': 'USA', 'language': 'English', 'boxOffice': '$245.1 million', 'production': 'Paramount Pictures', 'website': 'https://www.paramountmovies.com/movies/the-godfather'}, {'id': 3, 'title': 'The Dark Knight', 'year': 2008, 'genre': ['Action', 'Crime', 'Drama'], 'rating': 9, 'director': 'Christopher Nolan', 'actors': ['Christian Bale', 'Heath Ledger', 'Gary Oldman'], 'plot': 'When the menace known as the Joker wreaks havoc and chaos on the people of Gotham, Batman must accept one of the greatest psychological and physical tests of his ability to fight injustice.', 'poster': 'https://fakeimg.pl/220x310/ff00ff', 'trailer': 'https://example.com/the_dark_knight_trailer.mp4', 'runtime': 152, 'awards': 'Won 2 Oscars', 'country': 'USA', 'language': 'English', 'boxOffice': '$1.005 billion', 'production': 'Warner Bros. Pictures', 'website': 'https://www.warnerbros.com/movies/dark-knight'}, {'id': 4, 'title': 'Pulp Fiction', 'year': 1994, 'genre': ['Crime', 'Drama'], 'rating': 8.9, 'director': 'Quentin Tarantino', 'actors': ['John Travolta', 'Uma Thurman', 'Samuel L. Jackson'], 'plot': \"The lives of two mob hitmen, a boxer, a gangster's wife, and a pair of diner bandits intertwine in four tales of violence and redemption.\", 'poster': 'https://fakeimg.pl/220x310/0000ff', 'trailer': 'https://example.com/pulp_fiction_trailer.mp4', 'runtime': 154, 'awards': 'Won 1 Oscar', 'country': 'USA', 'language': 'English', 'boxOffice': '$213.9 million', 'production': 'Miramax Films', 'website': 'https://www.miramax.com/movie/pulp-fiction'}, {'id': 5, 'title': 'Forrest Gump', 'year': 1994, 'genre': ['Drama', 'Romance'], 'rating': 8.8, 'director': 'Robert Zemeckis', 'actors': ['Tom Hanks', 'Robin Wright', 'Gary Sinise'], 'plot': 'The presidencies of Kennedy and Johnson, the events of Vietnam, Watergate, and other historical events unfold through the perspective of an Alabama man with an IQ of 75.', 'poster': 'https://fakeimg.pl/220x310/ff00ff', 'trailer': 'https://example.com/forrest_gump_trailer.mp4', 'runtime': 142, 'awards': 'Won 6 Oscars', 'country': 'USA', 'language': 'English', 'boxOffice': '$677.9 million', 'production': 'Paramount Pictures', 'website': 'https://www.paramountmovies.com/movies/forrest-gump'}, {'id': 6, 'title': 'Inception', 'year': 2010, 'genre': ['Action', 'Adventure', 'Sci-Fi'], 'rating': 8.8, 'director': 'Christopher Nolan', 'actors': ['Leonardo DiCaprio', 'Joseph Gordon-Levitt', 'Ellen Page'], 'plot': 'A thief who steals corporate secrets through the use of dream-sharing technology is given the inverse task of planting an idea into the mind of a C.E.O.', 'poster': 'https://fakeimg.pl/220x310/f8f8f8', 'trailer': 'https://example.com/inception_trailer.mp4', 'runtime': 148, 'awards': 'Won 4 Oscars', 'country': 'USA', 'language': 'English', 'boxOffice': '$829.9 million', 'production': 'Warner Bros. Pictures', 'website': 'https://www.warnerbros.com/movies/inception'}, {'id': 7, 'title': 'The Matrix', 'year': 1999, 'genre': ['Action', 'Sci-Fi'], 'rating': 8.7, 'director': 'Lana Wachowski, Lilly Wachowski', 'actors': ['Keanu Reeves', 'Laurence Fishburne', 'Carrie-Anne Moss'], 'plot': 'A computer hacker learns from mysterious rebels about the true nature of his reality and his role in the war against its controllers.', 'poster': 'https://fakeimg.pl/220x310/f6f6f6', 'trailer': 'https://example.com/the_matrix_trailer.mp4', 'runtime': 136, 'awards': 'Won 4 Oscars', 'country': 'USA', 'language': 'English', 'boxOffice': '$463.5 million', 'production': 'Warner Bros. Pictures', 'website': 'https://www.warnerbros.com/movies/matrix'}, {'id': 8, 'title': 'The Lord of the Rings: The Return of the King', 'year': 2003, 'genre': ['Adventure', 'Drama', 'Fantasy'], 'rating': 8.9, 'director': 'Peter Jackson', 'actors': ['Elijah Wood', 'Viggo Mortensen', 'Ian McKellen'], 'plot': \"Gandalf and Aragorn lead the World of Men against Sauron's army to draw his gaze from Frodo and Sam as they approach Mount Doom with the One Ring.\", 'poster': 'https://fakeimg.pl/220x310/ff00ff', 'trailer': 'https://example.com/lotr_return_of_the_king_trailer.mp4', 'runtime': 201, 'awards': 'Won 11 Oscars', 'country': 'USA', 'language': 'English', 'boxOffice': '$1.142 billion', 'production': 'New Line Cinema', 'website': 'https://www.lordoftherings.net/film/the-return-of-the-king'}, {'id': 9, 'title': 'The Dark Knight Rises', 'year': 2012, 'genre': ['Action', 'Thriller'], 'rating': 8.4, 'director': 'Christopher Nolan', 'actors': ['Christian Bale', 'Tom Hardy'], 'plot': \"Eight years after the Joker's reign of anarchy, Batman is forced out of retirement to save Gotham City from the brutal guerrilla terrorist Bane.\", 'poster': 'https://fakeimg.pl/220x310/f6f6f6', 'trailer': 'https://example.com/the_dark_knight_rises_trailer.mp4', 'runtime': 165, 'awards': 'Nominated for 2 Oscars', 'country': 'USA', 'language': 'English', 'boxOffice': '$1.081 billion', 'production': 'Warner Bros. Pictures', 'website': 'http://www.warnerbros.com/movies/the-dark-knight-rises'}, {'id': 10, 'title': 'Interstellar', 'year': 2014, 'genre': ['Adventure', 'Drama', 'Sci-Fi'], 'rating': 8.6, 'director': 'Christopher Nolan', 'actors': ['Matthew McConaughey', 'Anne Hathaway'], 'plot': \"A team of explorers travel through a wormhole in space in an attempt to ensure humanity's survival.\", 'poster': 'https://fakeimg.pl/220x310/0000ff', 'trailer': 'https://example.com/interstellar_trailer.mp4', 'runtime': 169, 'awards': 'Won 1 Oscar', 'country': 'USA', 'language': 'English', 'boxOffice': '$677.5 million', 'production': 'Paramount Pictures', 'website': 'http://www.paramount.com/movies/interstellar'}, {'id': 11, 'title': 'Fight Club', 'year': 1999, 'genre': ['Drama'], 'rating': 8.8, 'director': 'David Fincher', 'actors': ['Brad Pitt', 'Edward Norton', 'Helena Bonham Carter'], 'plot': 'An insomniac office worker and a devil-may-care soapmaker form an underground fight club that evolves into something much, much more.', 'poster': 'https://fakeimg.pl/220x310/ff00ff', 'trailer': 'https://example.com/fight_club_trailer.mp4', 'runtime': 139, 'awards': 'Nominated for 1 Oscar', 'country': 'USA', 'language': 'English', 'boxOffice': '$100.9 million', 'production': '20th Century Fox', 'website': 'https://www.foxmovies.com/movies/fight-club'}, {'id': 12, 'title': 'Gladiator', 'year': 2000, 'genre': ['Action', 'Adventure', 'Drama'], 'rating': 8.5, 'director': 'Ridley Scott', 'actors': ['Russell Crowe', 'Joaquin Phoenix', 'Connie Nielsen'], 'plot': 'A former Roman General sets out to exact vengeance against the corrupt emperor who murdered his family and sent him into slavery.', 'poster': 'https://fakeimg.pl/220x310/f8f8f8', 'trailer': 'https://example.com/gladiator_trailer.mp4', 'runtime': 155, 'awards': 'Won 5 Oscars', 'country': 'USA', 'language': 'English', 'boxOffice': '$460.5 million', 'production': 'DreamWorks Pictures', 'website': 'https://www.dreamworks.com/movies/gladiator'}, {'id': 13, 'title': 'The Lord of the Rings: The Two Towers', 'year': 2002, 'genre': ['Adventure', 'Drama', 'Fantasy'], 'rating': 8.7, 'director': 'Peter Jackson', 'actors': ['Elijah Wood', 'Ian McKellen', 'Viggo Mortensen'], 'plot': \"While Frodo and Sam edge closer to Mordor with the help of the shifty Gollum, the divided fellowship makes a stand against Sauron's new ally, Saruman, and his hordes of Isengard.\", 'poster': 'https://fakeimg.pl/220x310/f6f6f6', 'trailer': 'https://example.com/lotr_two_towers_trailer.mp4', 'runtime': 179, 'awards': 'Won 2 Oscars', 'country': 'USA', 'language': 'English', 'boxOffice': '$951.2 million', 'production': 'New Line Cinema', 'website': 'https://www.lordoftherings.net/film/the-two-towers'}, {'id': 14, 'title': 'The Silence of the Lambs', 'year': 1991, 'genre': ['Crime', 'Drama', 'Thriller'], 'rating': 8.6, 'director': 'Jonathan Demme', 'actors': ['Jodie Foster', 'Anthony Hopkins', 'Lawrence A. Bonney'], 'plot': 'A young F.B.I. cadet must receive the help of an incarcerated and manipulative cannibal killer to help catch another serial killer, a madman who skins his victims.', 'poster': 'https://fakeimg.pl/220x310/0000ff', 'trailer': 'https://example.com/silence_of_the_lambs_trailer.mp4', 'runtime': 118, 'awards': 'Won 5 Oscars', 'country': 'USA', 'language': 'English', 'boxOffice': '$272.7 million', 'production': 'Orion Pictures', 'website': 'https://www.mgm.com/movies/the-silence-of-the-lambs'}, {'id': 15, 'title': 'The Departed', 'year': 2006, 'genre': ['Crime', 'Drama', 'Thriller'], 'rating': 8.5, 'director': 'Martin Scorsese', 'actors': ['Leonardo DiCaprio', 'Matt Damon', 'Jack Nicholson'], 'plot': 'An undercover cop and a mole in the police attempt to identify each other while infiltrating an Irish gang in South Boston.', 'poster': 'https://fakeimg.pl/220x310/00ff00', 'trailer': 'https://example.com/the_departed_trailer.mp4', 'runtime': 151, 'awards': 'Won 4 Oscars', 'country': 'USA', 'language': 'English', 'boxOffice': '$289.8 million', 'production': 'Warner Bros. Pictures', 'website': 'https://www.warnerbros.com/movies/departed'}, {'id': 16, 'title': 'Saving Private Ryan', 'year': 1998, 'genre': ['Drama', 'War'], 'rating': 8.6, 'director': 'Steven Spielberg', 'actors': ['Tom Hanks', 'Matt Damon', 'Tom Sizemore'], 'plot': 'Following the Normandy Landings, a group of U.S. soldiers go behind enemy lines to retrieve a paratrooper whose brothers have been killed in action.', 'poster': 'https://fakeimg.pl/220x310/ff0000', 'trailer': 'https://example.com/saving_private_ryan_trailer.mp4', 'runtime': 169, 'awards': 'Won 5 Oscars', 'country': 'USA', 'language': 'English', 'boxOffice': '$482.3 million', 'production': 'DreamWorks Pictures', 'website': 'https://www.dreamworks.com/movies/saving-private-ryan'}, {'id': 17, 'title': 'The Prestige', 'year': 2006, 'genre': ['Drama', 'Mystery', 'Sci-Fi'], 'rating': 8.5, 'director': 'Christopher Nolan', 'actors': ['Christian Bale', 'Hugh Jackman', 'Scarlett Johansson'], 'plot': 'After a tragic accident, two stage magicians engage in a battle to create the ultimate illusion while sacrificing everything they have to outwit each other.', 'poster': 'https://fakeimg.pl/220x310/0000ff', 'trailer': 'https://example.com/the_prestige_trailer.mp4', 'runtime': 130, 'awards': 'Nominated for 2 Oscars', 'country': 'USA', 'language': 'English', 'boxOffice': '$109.7 million', 'production': 'Warner Bros. Pictures', 'website': 'https://www.warnerbros.com/movies/prestige'}, {'id': 18, 'title': 'Glory', 'year': 1989, 'genre': ['Drama', 'History', 'War'], 'rating': 7.8, 'director': 'Edward Zwick', 'actors': ['Matthew Broderick', 'Denzel Washington', 'Cary Elwes'], 'plot': \"Robert Gould Shaw leads the U.S. Civil War's first all-black volunteer company, fighting prejudices from both his own Union Army and the Confederates.\", 'poster': 'https://fakeimg.pl/220x310/00ff00', 'trailer': 'https://example.com/glory_trailer.mp4', 'runtime': 122, 'awards': 'Won 3 Oscars', 'country': 'USA', 'language': 'English', 'boxOffice': '$26.8 million', 'production': 'TriStar Pictures', 'website': 'https://www.sonypictures.com/movies/glory'}, {'id': 19, 'title': 'The Avengers', 'year': 2012, 'genre': ['Action', 'Adventure', 'Sci-Fi'], 'rating': 8, 'director': 'Joss Whedon', 'actors': ['Robert Downey Jr.', 'Chris Evans', 'Mark Ruffalo'], 'plot': \"Earth's mightiest heroes must come together and learn to fight as a team if they are going to stop the mischievous Loki and his alien army from enslaving humanity.\", 'poster': 'https://fakeimg.pl/220x310/ff0000', 'trailer': 'https://example.com/the_avengers_trailer.mp4', 'runtime': 143, 'awards': 'Nominated for 1 Oscar', 'country': 'USA', 'language': 'English', 'boxOffice': '$1.518 billion', 'production': 'Marvel Studios', 'website': 'https://www.marvel.com/movies/the-avengers'}, {'id': 20, 'title': 'The Lion King', 'year': 1994, 'genre': ['Animation', 'Adventure', 'Drama'], 'rating': 8.5, 'director': 'Roger Allers, Rob Minkoff', 'actors': ['Matthew Broderick', 'Jeremy Irons', 'James Earl Jones'], 'plot': 'Lion prince Simba and his father are targeted by his bitter uncle, who wants to ascend the throne himself.', 'poster': 'https://fakeimg.pl/220x310/0000ff', 'trailer': 'https://example.com/the_lion_king_trailer.mp4', 'runtime': 88, 'awards': 'Won 2 Oscars', 'country': 'USA', 'language': 'English', 'boxOffice': '$968.5 million', 'production': 'Walt Disney Pictures', 'website': 'https://movies.disney.com/the-lion-king'}]\n"
     ]
    }
   ],
   "source": [
    "data=response.json()\n",
    "print(data)\n"
   ]
  },
  {
   "cell_type": "code",
   "execution_count": 52,
   "id": "6d23cbb4",
   "metadata": {},
   "outputs": [
    {
     "name": "stdout",
     "output_type": "stream",
     "text": [
      "    id                                          title  year  \\\n",
      "0    1                       The Shawshank Redemption  1994   \n",
      "1    2                                  The Godfather  1972   \n",
      "2    3                                The Dark Knight  2008   \n",
      "3    4                                   Pulp Fiction  1994   \n",
      "4    5                                   Forrest Gump  1994   \n",
      "5    6                                      Inception  2010   \n",
      "6    7                                     The Matrix  1999   \n",
      "7    8  The Lord of the Rings: The Return of the King  2003   \n",
      "8    9                          The Dark Knight Rises  2012   \n",
      "9   10                                   Interstellar  2014   \n",
      "10  11                                     Fight Club  1999   \n",
      "11  12                                      Gladiator  2000   \n",
      "12  13          The Lord of the Rings: The Two Towers  2002   \n",
      "13  14                       The Silence of the Lambs  1991   \n",
      "14  15                                   The Departed  2006   \n",
      "15  16                            Saving Private Ryan  1998   \n",
      "16  17                                   The Prestige  2006   \n",
      "17  18                                          Glory  1989   \n",
      "18  19                                   The Avengers  2012   \n",
      "19  20                                  The Lion King  1994   \n",
      "\n",
      "                            genre  rating                         director  \\\n",
      "0                         [Drama]     9.3                   Frank Darabont   \n",
      "1                  [Crime, Drama]     9.2             Francis Ford Coppola   \n",
      "2          [Action, Crime, Drama]     9.0                Christopher Nolan   \n",
      "3                  [Crime, Drama]     8.9                Quentin Tarantino   \n",
      "4                [Drama, Romance]     8.8                  Robert Zemeckis   \n",
      "5     [Action, Adventure, Sci-Fi]     8.8                Christopher Nolan   \n",
      "6                [Action, Sci-Fi]     8.7  Lana Wachowski, Lilly Wachowski   \n",
      "7     [Adventure, Drama, Fantasy]     8.9                    Peter Jackson   \n",
      "8              [Action, Thriller]     8.4                Christopher Nolan   \n",
      "9      [Adventure, Drama, Sci-Fi]     8.6                Christopher Nolan   \n",
      "10                        [Drama]     8.8                    David Fincher   \n",
      "11     [Action, Adventure, Drama]     8.5                     Ridley Scott   \n",
      "12    [Adventure, Drama, Fantasy]     8.7                    Peter Jackson   \n",
      "13       [Crime, Drama, Thriller]     8.6                   Jonathan Demme   \n",
      "14       [Crime, Drama, Thriller]     8.5                  Martin Scorsese   \n",
      "15                   [Drama, War]     8.6                 Steven Spielberg   \n",
      "16       [Drama, Mystery, Sci-Fi]     8.5                Christopher Nolan   \n",
      "17          [Drama, History, War]     7.8                     Edward Zwick   \n",
      "18    [Action, Adventure, Sci-Fi]     8.0                      Joss Whedon   \n",
      "19  [Animation, Adventure, Drama]     8.5        Roger Allers, Rob Minkoff   \n",
      "\n",
      "                                               actors  \\\n",
      "0                       [Tim Robbins, Morgan Freeman]   \n",
      "1              [Marlon Brando, Al Pacino, James Caan]   \n",
      "2         [Christian Bale, Heath Ledger, Gary Oldman]   \n",
      "3     [John Travolta, Uma Thurman, Samuel L. Jackson]   \n",
      "4              [Tom Hanks, Robin Wright, Gary Sinise]   \n",
      "5   [Leonardo DiCaprio, Joseph Gordon-Levitt, Elle...   \n",
      "6   [Keanu Reeves, Laurence Fishburne, Carrie-Anne...   \n",
      "7        [Elijah Wood, Viggo Mortensen, Ian McKellen]   \n",
      "8                         [Christian Bale, Tom Hardy]   \n",
      "9                [Matthew McConaughey, Anne Hathaway]   \n",
      "10   [Brad Pitt, Edward Norton, Helena Bonham Carter]   \n",
      "11   [Russell Crowe, Joaquin Phoenix, Connie Nielsen]   \n",
      "12       [Elijah Wood, Ian McKellen, Viggo Mortensen]   \n",
      "13  [Jodie Foster, Anthony Hopkins, Lawrence A. Bo...   \n",
      "14    [Leonardo DiCaprio, Matt Damon, Jack Nicholson]   \n",
      "15              [Tom Hanks, Matt Damon, Tom Sizemore]   \n",
      "16  [Christian Bale, Hugh Jackman, Scarlett Johans...   \n",
      "17  [Matthew Broderick, Denzel Washington, Cary El...   \n",
      "18     [Robert Downey Jr., Chris Evans, Mark Ruffalo]   \n",
      "19  [Matthew Broderick, Jeremy Irons, James Earl J...   \n",
      "\n",
      "                                                 plot  \\\n",
      "0   Two imprisoned men bond over several years, fi...   \n",
      "1   The aging patriarch of an organized crime dyna...   \n",
      "2   When the menace known as the Joker wreaks havo...   \n",
      "3   The lives of two mob hitmen, a boxer, a gangst...   \n",
      "4   The presidencies of Kennedy and Johnson, the e...   \n",
      "5   A thief who steals corporate secrets through t...   \n",
      "6   A computer hacker learns from mysterious rebel...   \n",
      "7   Gandalf and Aragorn lead the World of Men agai...   \n",
      "8   Eight years after the Joker's reign of anarchy...   \n",
      "9   A team of explorers travel through a wormhole ...   \n",
      "10  An insomniac office worker and a devil-may-car...   \n",
      "11  A former Roman General sets out to exact venge...   \n",
      "12  While Frodo and Sam edge closer to Mordor with...   \n",
      "13  A young F.B.I. cadet must receive the help of ...   \n",
      "14  An undercover cop and a mole in the police att...   \n",
      "15  Following the Normandy Landings, a group of U....   \n",
      "16  After a tragic accident, two stage magicians e...   \n",
      "17  Robert Gould Shaw leads the U.S. Civil War's f...   \n",
      "18  Earth's mightiest heroes must come together an...   \n",
      "19  Lion prince Simba and his father are targeted ...   \n",
      "\n",
      "                               poster  \\\n",
      "0   https://fakeimg.pl/220x310/ff0000   \n",
      "1   https://fakeimg.pl/220x310/ffff00   \n",
      "2   https://fakeimg.pl/220x310/ff00ff   \n",
      "3   https://fakeimg.pl/220x310/0000ff   \n",
      "4   https://fakeimg.pl/220x310/ff00ff   \n",
      "5   https://fakeimg.pl/220x310/f8f8f8   \n",
      "6   https://fakeimg.pl/220x310/f6f6f6   \n",
      "7   https://fakeimg.pl/220x310/ff00ff   \n",
      "8   https://fakeimg.pl/220x310/f6f6f6   \n",
      "9   https://fakeimg.pl/220x310/0000ff   \n",
      "10  https://fakeimg.pl/220x310/ff00ff   \n",
      "11  https://fakeimg.pl/220x310/f8f8f8   \n",
      "12  https://fakeimg.pl/220x310/f6f6f6   \n",
      "13  https://fakeimg.pl/220x310/0000ff   \n",
      "14  https://fakeimg.pl/220x310/00ff00   \n",
      "15  https://fakeimg.pl/220x310/ff0000   \n",
      "16  https://fakeimg.pl/220x310/0000ff   \n",
      "17  https://fakeimg.pl/220x310/00ff00   \n",
      "18  https://fakeimg.pl/220x310/ff0000   \n",
      "19  https://fakeimg.pl/220x310/0000ff   \n",
      "\n",
      "                                              trailer  runtime  \\\n",
      "0   https://example.com/shawshank_redemption_trail...      142   \n",
      "1       https://example.com/the_godfather_trailer.mp4      175   \n",
      "2     https://example.com/the_dark_knight_trailer.mp4      152   \n",
      "3        https://example.com/pulp_fiction_trailer.mp4      154   \n",
      "4        https://example.com/forrest_gump_trailer.mp4      142   \n",
      "5           https://example.com/inception_trailer.mp4      148   \n",
      "6          https://example.com/the_matrix_trailer.mp4      136   \n",
      "7   https://example.com/lotr_return_of_the_king_tr...      201   \n",
      "8   https://example.com/the_dark_knight_rises_trai...      165   \n",
      "9        https://example.com/interstellar_trailer.mp4      169   \n",
      "10         https://example.com/fight_club_trailer.mp4      139   \n",
      "11          https://example.com/gladiator_trailer.mp4      155   \n",
      "12    https://example.com/lotr_two_towers_trailer.mp4      179   \n",
      "13  https://example.com/silence_of_the_lambs_trail...      118   \n",
      "14       https://example.com/the_departed_trailer.mp4      151   \n",
      "15  https://example.com/saving_private_ryan_traile...      169   \n",
      "16       https://example.com/the_prestige_trailer.mp4      130   \n",
      "17              https://example.com/glory_trailer.mp4      122   \n",
      "18       https://example.com/the_avengers_trailer.mp4      143   \n",
      "19      https://example.com/the_lion_king_trailer.mp4       88   \n",
      "\n",
      "                    awards country language       boxOffice  \\\n",
      "0   Nominated for 7 Oscars     USA  English   $28.3 million   \n",
      "1             Won 3 Oscars     USA  English  $245.1 million   \n",
      "2             Won 2 Oscars     USA  English  $1.005 billion   \n",
      "3              Won 1 Oscar     USA  English  $213.9 million   \n",
      "4             Won 6 Oscars     USA  English  $677.9 million   \n",
      "5             Won 4 Oscars     USA  English  $829.9 million   \n",
      "6             Won 4 Oscars     USA  English  $463.5 million   \n",
      "7            Won 11 Oscars     USA  English  $1.142 billion   \n",
      "8   Nominated for 2 Oscars     USA  English  $1.081 billion   \n",
      "9              Won 1 Oscar     USA  English  $677.5 million   \n",
      "10   Nominated for 1 Oscar     USA  English  $100.9 million   \n",
      "11            Won 5 Oscars     USA  English  $460.5 million   \n",
      "12            Won 2 Oscars     USA  English  $951.2 million   \n",
      "13            Won 5 Oscars     USA  English  $272.7 million   \n",
      "14            Won 4 Oscars     USA  English  $289.8 million   \n",
      "15            Won 5 Oscars     USA  English  $482.3 million   \n",
      "16  Nominated for 2 Oscars     USA  English  $109.7 million   \n",
      "17            Won 3 Oscars     USA  English   $26.8 million   \n",
      "18   Nominated for 1 Oscar     USA  English  $1.518 billion   \n",
      "19            Won 2 Oscars     USA  English  $968.5 million   \n",
      "\n",
      "               production                                            website  \n",
      "0       Columbia Pictures  http://www.warnerbros.com/movies/shawshank-red...  \n",
      "1      Paramount Pictures  https://www.paramountmovies.com/movies/the-god...  \n",
      "2   Warner Bros. Pictures      https://www.warnerbros.com/movies/dark-knight  \n",
      "3           Miramax Films         https://www.miramax.com/movie/pulp-fiction  \n",
      "4      Paramount Pictures  https://www.paramountmovies.com/movies/forrest...  \n",
      "5   Warner Bros. Pictures        https://www.warnerbros.com/movies/inception  \n",
      "6   Warner Bros. Pictures           https://www.warnerbros.com/movies/matrix  \n",
      "7         New Line Cinema  https://www.lordoftherings.net/film/the-return...  \n",
      "8   Warner Bros. Pictures  http://www.warnerbros.com/movies/the-dark-knig...  \n",
      "9      Paramount Pictures       http://www.paramount.com/movies/interstellar  \n",
      "10       20th Century Fox        https://www.foxmovies.com/movies/fight-club  \n",
      "11    DreamWorks Pictures        https://www.dreamworks.com/movies/gladiator  \n",
      "12        New Line Cinema  https://www.lordoftherings.net/film/the-two-to...  \n",
      "13         Orion Pictures  https://www.mgm.com/movies/the-silence-of-the-...  \n",
      "14  Warner Bros. Pictures         https://www.warnerbros.com/movies/departed  \n",
      "15    DreamWorks Pictures  https://www.dreamworks.com/movies/saving-priva...  \n",
      "16  Warner Bros. Pictures         https://www.warnerbros.com/movies/prestige  \n",
      "17       TriStar Pictures          https://www.sonypictures.com/movies/glory  \n",
      "18         Marvel Studios         https://www.marvel.com/movies/the-avengers  \n",
      "19   Walt Disney Pictures            https://movies.disney.com/the-lion-king  \n"
     ]
    }
   ],
   "source": [
    "df=pd.DataFrame(data)\n",
    "print(df)"
   ]
  },
  {
   "cell_type": "code",
   "execution_count": 21,
   "id": "5941b9d7",
   "metadata": {},
   "outputs": [],
   "source": [
    "df = pd.DataFrame(articles, columns=['author', 'title', 'description', 'url', 'urlToImage', 'publishedAt', 'content'])\n"
   ]
  },
  {
   "cell_type": "code",
   "execution_count": 22,
   "id": "2b4eb6de",
   "metadata": {},
   "outputs": [
    {
     "data": {
      "text/html": [
       "<div>\n",
       "<style scoped>\n",
       "    .dataframe tbody tr th:only-of-type {\n",
       "        vertical-align: middle;\n",
       "    }\n",
       "\n",
       "    .dataframe tbody tr th {\n",
       "        vertical-align: top;\n",
       "    }\n",
       "\n",
       "    .dataframe thead th {\n",
       "        text-align: right;\n",
       "    }\n",
       "</style>\n",
       "<table border=\"1\" class=\"dataframe\">\n",
       "  <thead>\n",
       "    <tr style=\"text-align: right;\">\n",
       "      <th></th>\n",
       "      <th>author</th>\n",
       "      <th>title</th>\n",
       "      <th>description</th>\n",
       "      <th>url</th>\n",
       "      <th>urlToImage</th>\n",
       "      <th>publishedAt</th>\n",
       "      <th>content</th>\n",
       "    </tr>\n",
       "  </thead>\n",
       "  <tbody>\n",
       "  </tbody>\n",
       "</table>\n",
       "</div>"
      ],
      "text/plain": [
       "Empty DataFrame\n",
       "Columns: [author, title, description, url, urlToImage, publishedAt, content]\n",
       "Index: []"
      ]
     },
     "execution_count": 22,
     "metadata": {},
     "output_type": "execute_result"
    }
   ],
   "source": [
    "df"
   ]
  },
  {
   "cell_type": "code",
   "execution_count": 23,
   "id": "20547b35",
   "metadata": {},
   "outputs": [],
   "source": [
    "df=pd.DataFrame()"
   ]
  },
  {
   "cell_type": "code",
   "execution_count": 24,
   "id": "96e723df",
   "metadata": {},
   "outputs": [],
   "source": [
    "dataframe=[]"
   ]
  },
  {
   "cell_type": "code",
   "execution_count": 25,
   "id": "ed2b2cfe",
   "metadata": {},
   "outputs": [],
   "source": [
    "for i in range(0,100):\n",
    "    response=requests.get('https://newsapi.org/v2/everything?q=tesla&from=2024-07-10&sortBy=publishedAt&apiKey=632615e301d348dbafdabe48acd8e6d7')\n",
    "    articles = response.json().get('articles', [])\n",
    "    temp_df = pd.DataFrame(articles, columns=['author', 'title', 'description', 'url', 'urlToImage', 'publishedAt', 'content'])\n",
    "    dataframe.append(temp_df)\n",
    "df=pd.concat(dataframe,ignore_index=True)\n",
    "\n",
    "    \n",
    "    "
   ]
  },
  {
   "cell_type": "code",
   "execution_count": 26,
   "id": "c70cc21a",
   "metadata": {},
   "outputs": [
    {
     "data": {
      "text/html": [
       "<div>\n",
       "<style scoped>\n",
       "    .dataframe tbody tr th:only-of-type {\n",
       "        vertical-align: middle;\n",
       "    }\n",
       "\n",
       "    .dataframe tbody tr th {\n",
       "        vertical-align: top;\n",
       "    }\n",
       "\n",
       "    .dataframe thead th {\n",
       "        text-align: right;\n",
       "    }\n",
       "</style>\n",
       "<table border=\"1\" class=\"dataframe\">\n",
       "  <thead>\n",
       "    <tr style=\"text-align: right;\">\n",
       "      <th></th>\n",
       "      <th>author</th>\n",
       "      <th>title</th>\n",
       "      <th>description</th>\n",
       "      <th>url</th>\n",
       "      <th>urlToImage</th>\n",
       "      <th>publishedAt</th>\n",
       "      <th>content</th>\n",
       "    </tr>\n",
       "  </thead>\n",
       "  <tbody>\n",
       "  </tbody>\n",
       "</table>\n",
       "</div>"
      ],
      "text/plain": [
       "Empty DataFrame\n",
       "Columns: [author, title, description, url, urlToImage, publishedAt, content]\n",
       "Index: []"
      ]
     },
     "execution_count": 26,
     "metadata": {},
     "output_type": "execute_result"
    }
   ],
   "source": [
    "df.head(1)"
   ]
  },
  {
   "cell_type": "code",
   "execution_count": 27,
   "id": "81705f03",
   "metadata": {},
   "outputs": [
    {
     "data": {
      "text/plain": [
       "(0, 7)"
      ]
     },
     "execution_count": 27,
     "metadata": {},
     "output_type": "execute_result"
    }
   ],
   "source": [
    "df.shape"
   ]
  },
  {
   "cell_type": "code",
   "execution_count": null,
   "id": "702ce0a3",
   "metadata": {},
   "outputs": [],
   "source": []
  }
 ],
 "metadata": {
  "kernelspec": {
   "display_name": "Python 3 (ipykernel)",
   "language": "python",
   "name": "python3"
  },
  "language_info": {
   "codemirror_mode": {
    "name": "ipython",
    "version": 3
   },
   "file_extension": ".py",
   "mimetype": "text/x-python",
   "name": "python",
   "nbconvert_exporter": "python",
   "pygments_lexer": "ipython3",
   "version": "3.10.10"
  }
 },
 "nbformat": 4,
 "nbformat_minor": 5
}
